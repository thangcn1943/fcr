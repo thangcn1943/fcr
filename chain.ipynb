{
 "cells": [
  {
   "cell_type": "code",
   "execution_count": 12,
   "metadata": {},
   "outputs": [],
   "source": [
    "import os\n",
    "from groq import Groq\n",
    "import dotenv\n",
    "from langchain_community.embeddings import HuggingFaceEmbeddings\n",
    "from langchain_community.vectorstores import FAISS\n",
    "from langchain_core.documents import Document\n",
    "import faiss\n",
    "from langchain_community.docstore.in_memory import InMemoryDocstore"
   ]
  },
  {
   "cell_type": "code",
   "execution_count": 2,
   "metadata": {},
   "outputs": [],
   "source": [
    "dotenv.load_dotenv('.env') \n",
    "groq_api_key = os.getenv(\"GROQ_API_KEY\")\n",
    "client = Groq(api_key=groq_api_key)"
   ]
  },
  {
   "cell_type": "markdown",
   "metadata": {},
   "source": [
    "# create voi search bang L2"
   ]
  },
  {
   "cell_type": "code",
   "execution_count": 5,
   "metadata": {},
   "outputs": [],
   "source": [
    "texts = [\n",
    "    \"Fast language models improve efficiency in AI applications.\",\n",
    "    \"They enable real-time interactions and better user experience.\",\n",
    "    \"Optimized models reduce computational costs and energy consumption.\",\n",
    "    \"Cat and dog are animals\",\n",
    "]\n",
    "\n",
    "# Create a document for each text\n",
    "documents = [Document(page_content=text, metadata={'source': 'test'}) for text in texts]"
   ]
  },
  {
   "cell_type": "code",
   "execution_count": 6,
   "metadata": {},
   "outputs": [],
   "source": [
    "# Khởi tạo vector database với FAISS\n",
    "embeddings = HuggingFaceEmbeddings(\n",
    "    model_name=\"BAAI/bge-small-en-v1.5\",\n",
    "    model_kwargs={'device': 'cpu'}\n",
    ")"
   ]
  },
  {
   "cell_type": "code",
   "execution_count": 10,
   "metadata": {},
   "outputs": [],
   "source": [
    "index = faiss.IndexFlatL2(len(embeddings.embed_query('thang')))"
   ]
  },
  {
   "cell_type": "code",
   "execution_count": 13,
   "metadata": {},
   "outputs": [],
   "source": [
    "vector_store = FAISS(\n",
    "    embedding_function=embeddings,\n",
    "    index= index ,\n",
    "    index_to_docstore_id={},\n",
    "    docstore=InMemoryDocstore()\n",
    ")"
   ]
  },
  {
   "cell_type": "code",
   "execution_count": 19,
   "metadata": {},
   "outputs": [
    {
     "data": {
      "text/plain": [
       "['3332b1d9-b529-48e9-a48b-9f6455e64f06',\n",
       " '5ac71e67-b9a2-4a64-a766-1d34d1c886d5',\n",
       " 'd2bda9f1-449a-4a18-bd51-a9ec8240ff67',\n",
       " '44c9d655-1202-43fb-ab31-e055db88165c']"
      ]
     },
     "execution_count": 19,
     "metadata": {},
     "output_type": "execute_result"
    }
   ],
   "source": [
    "vector_store.add_documents(documents) "
   ]
  },
  {
   "cell_type": "code",
   "execution_count": 20,
   "metadata": {},
   "outputs": [],
   "source": [
    "results = vector_store.similarity_search(\n",
    "    \"Cat and dog are animals\",\n",
    "    k=1,\n",
    "    filter={\"source\": \"tweet\"},\n",
    ")\n",
    "for res in results:\n",
    "    print(f\"* {res.page_content} [{res.metadata}]\")"
   ]
  },
  {
   "cell_type": "markdown",
   "metadata": {},
   "source": [
    "# create voi search cua langchain"
   ]
  },
  {
   "cell_type": "code",
   "execution_count": null,
   "metadata": {},
   "outputs": [
    {
     "name": "stdout",
     "output_type": "stream",
     "text": [
      "<langchain_community.vectorstores.faiss.FAISS object at 0x73dd2001f4f0>\n"
     ]
    }
   ],
   "source": [
    "vector_db = FAISS.from_texts(texts, embeddings)\n",
    "FAISS.save_local(vector_db, \"test_faiss\")\n",
    "print(vector_db)"
   ]
  },
  {
   "cell_type": "code",
   "execution_count": 10,
   "metadata": {},
   "outputs": [
    {
     "name": "stdout",
     "output_type": "stream",
     "text": [
      "4\n"
     ]
    }
   ],
   "source": [
    "vector_db = FAISS.load_local(\"test_faiss\", embeddings, allow_dangerous_deserialization=True)\n",
    "print(vector_db.index.ntotal)"
   ]
  },
  {
   "cell_type": "code",
   "execution_count": null,
   "metadata": {},
   "outputs": [],
   "source": [
    "\n",
    "# search similar documents\n",
    "def retrieve_relevant_documents(query, k=10):\n",
    "    # Lấy kết quả từ Vector Database\n",
    "    docs= vector_db.similarity_search(query, k=k)\n",
    "    \n",
    "    results = [doc.page_content for doc in docs]\n",
    "    \n",
    "    return results\n",
    "\n",
    "from sentence_transformers import CrossEncoder\n",
    "\n",
    "\n",
    "# rerank search results\n",
    "cross_encoder = CrossEncoder(\"cross-encoder/ms-marco-MiniLM-L-6-v2\")\n",
    "\n",
    "def retrieve_and_re_rank_advanced(vector_db, query, k=10):\n",
    "    # Lấy kết quả từ Vector Database\n",
    "    docs_with_scores = vector_db.similarity_search_with_score(query, k=k)\n",
    "    \n",
    "    # Chuẩn bị dữ liệu cho Cross-Encoder\n",
    "    doc_texts = [doc.page_content for doc, _ in docs_with_scores]\n",
    "    pairs = [[query, doc] for doc in doc_texts]\n",
    "    \n",
    "    # Dùng Cross-Encoder để đánh giá lại\n",
    "    rerank_scores = cross_encoder.predict(pairs)\n",
    "    \n",
    "    # Sắp xếp lại theo score mới\n",
    "    ranked_docs = sorted(zip(doc_texts, rerank_scores), key=lambda x: x[1], reverse=True)\n",
    "    \n",
    "    results = [doc for doc, _ in ranked_docs]\n",
    "    scores = [score for _, score in ranked_docs]\n",
    "    \n",
    "    return results, scores\n"
   ]
  },
  {
   "cell_type": "code",
   "execution_count": null,
   "metadata": {},
   "outputs": [
    {
     "name": "stdout",
     "output_type": "stream",
     "text": [
      "Cat and dog are animals\n"
     ]
    }
   ],
   "source": [
    "# input query\n",
    "query = \"Cat and dog are what?\"\n",
    "retrieved_docs = retrieve_relevant_documents(query, 1)\n",
    "print(retrieved_docs)"
   ]
  },
  {
   "cell_type": "code",
   "execution_count": 13,
   "metadata": {},
   "outputs": [
    {
     "name": "stdout",
     "output_type": "stream",
     "text": [
      "Question:  Cat and dog are animals.\n"
     ]
    }
   ],
   "source": [
    "# Gửi yêu cầu đến mô hình Groq\n",
    "chat_completion = client.chat.completions.create(\n",
    "    messages=[\n",
    "        {\"role\": \"system\", \"content\": \"You are a helpful assistant that utilizes retrieved information.\"},\n",
    "        {\"role\": \"user\", \"content\": f\"Context:\\n{retrieved_docs}\\n\\nQuestion: {query}\"},\n",
    "    ],\n",
    "    model=\"llama-3.3-70b-versatile\",\n",
    ")\n",
    "\n",
    "print(\"Question: \",chat_completion.choices[0].message.content)"
   ]
  },
  {
   "cell_type": "markdown",
   "metadata": {},
   "source": [
    "## tao vector db voi pdf"
   ]
  },
  {
   "cell_type": "code",
   "execution_count": 4,
   "metadata": {},
   "outputs": [],
   "source": [
    "from langchain_text_splitters import RecursiveCharacterTextSplitter, CharacterTextSplitter\n",
    "from langchain_community.document_loaders import PyPDFLoader, DirectoryLoader"
   ]
  },
  {
   "cell_type": "code",
   "execution_count": 5,
   "metadata": {},
   "outputs": [],
   "source": [
    "pdf_path = 'pdf'\n",
    "vector_db_path = 'vector_db_pdf'"
   ]
  },
  {
   "cell_type": "code",
   "execution_count": 7,
   "metadata": {},
   "outputs": [],
   "source": [
    "loader = DirectoryLoader(\n",
    "    path = pdf_path,\n",
    "    glob = \"*.pdf\",\n",
    "    loader_cls = PyPDFLoader\n",
    ")\n",
    "documents = loader.load()"
   ]
  },
  {
   "cell_type": "code",
   "execution_count": null,
   "metadata": {},
   "outputs": [
    {
     "name": "stdout",
     "output_type": "stream",
     "text": [
      "65\n"
     ]
    }
   ],
   "source": [
    "print(len(documents))\n",
    "## duoc chia thanh cac document nho"
   ]
  },
  {
   "cell_type": "code",
   "execution_count": 22,
   "metadata": {},
   "outputs": [
    {
     "name": "stdout",
     "output_type": "stream",
     "text": [
      "Mục lục\n",
      "1 Giới thiệu . . . . . . . . . . . . . . . . . . . . . . . . . . . . . . . . . . . . . . . . . . . . . . 2\n",
      "2 Phương pháp . . . . . . . . . . . . . . . . . . . . . . . . . . . . . . . . . . . . . . . . . . . . 3\n",
      "2.1 Mô tả bài toán . . . . . . . . . . . . . . . . . . . . . . . . . . . . . . . . . . . . . . . . . 3\n",
      "2.2 Dữ liệu . . . . . . . . . . . . . . . . . . . . . . . . . . . . . . . . . . . . . . . . . . . . . 5\n",
      "2.3 Quy trình xử lí dữ liệu . . . . . . . . . . . . . . . . . . . . . . . . . . . . . . . . . . . . . 5\n",
      "2.4 Quy trình tạo Agent . . . . . . . . . . . . . . . . . . . . . . . . . . . . . . . . . . . . . . 6\n",
      "2.5 Xây dựng ứng dụng . . . . . . . . . . . . . . . . . . . . . . . . . . . . . . . . . . . . . . 7\n",
      "2.6 Quy trình đánh giá hệ thống . . . . . . . . . . . . . . . . . . . . . . . . . . . . . . . . . 8\n",
      "3 Các thành phần của Llammaindex . . . . . . . . . . . . . . . . . . . . . . . . . . . . . . 9\n",
      "3.1 Yêu cầu trước khi bắt đầu . . . . . . . . . . . . . . . . . . . . . . . . . . . . . . . . . . . 9\n",
      "3.2 Documents . . . . . . . . . . . . . . . . . . . . . . . . . . . . . . . . . . . . . . . . . . . 9\n",
      "3.3 Nodes . . . . . . . . . . . . . . . . . . . . . . . . . . . . . . . . . . . . . . . . . . . . . . 11\n",
      "3.4 Indexes . . . . . . . . . . . . . . . . . . . . . . . . . . . . . . . . . . . . . . . . . . . . . 14\n",
      "3.5 Truy vấn dữ liệu . . . . . . . . . . . . . . . . . . . . . . . . . . . . . . . . . . . . . . . . 15\n",
      "4 Kỹ thuật Ingesting Data. . . . . . . . . . . . . . . . . . . . . . . . . . . . . . . . . . . . . 18\n",
      "4.1 Loading Data . . . . . . . . . . . . . . . . . . . . . . . . . . . . . . . . . . . . . . . . . . 18\n",
      "4.2 Các kỹ thuật tạo node . . . . . . . . . . . . . . . . . . . . . . . . . . . . . . . . . . . . . 20\n",
      "4.3 Khai thác sức mạnh của metadata - Metadata Extraction . . . . . . . . . . . . . . . . . 23\n",
      "4.4 Ingestion Pipeline . . . . . . . . . . . . . . . . . . . . . . . . . . . . . . . . . . . . . . . . 28\n",
      "4.5 Thực hành 1: Xây dựng Ingestion Pipeline - Mental Heath . . . . . . . . . . . . . . . . . 29\n",
      "5 Kỹ thuật Indexing Data . . . . . . . . . . . . . . . . . . . . . . . . . . . . . . . . . . . . . 34\n",
      "5.1 Tạo Vector Store Index . . . . . . . . . . . . . . . . . . . . . . . . . . . . . . . . . . . . . 34\n",
      "5.2 Lưu trữ Index . . . . . . . . . . . . . . . . . . . . . . . . . . . . . . . . . . . . . . . . . . 35\n",
      "5.3 Thực hành 2: Xây dựng Indexing - Mental Heath . . . . . . . . . . . . . . . . . . . . . 36\n",
      "6 Kỹ thuật truy xuất dữ liệu. . . . . . . . . . . . . . . . . . . . . . . . . . . . . . . . . . . 38\n",
      "7 Kỹ thuật xây dựng Chatbot, Agent. . . . . . . . . . . . . . . . . . . . . . . . . . . . . . 41\n",
      "7.1 Chat engine . . . . . . . . . . . . . . . . . . . . . . . . . . . . . . . . . . . . . . . . . . . 41\n",
      "7.2 Hoạt động của bộ nhớ trò chuyện . . . . . . . . . . . . . . . . . . . . . . . . . . . . . . . 44\n",
      "7.3 Các cơ chế trò chuyện . . . . . . . . . . . . . . . . . . . . . . . . . . . . . . . . . . . . . 45\n",
      "7.4 Agent . . . . . . . . . . . . . . . . . . . . . . . . . . . . . . . . . . . . . . . . . . . . . . 47\n",
      "7.5 Thực hành 3: Xây dựng Agent - Mental Heath . . . . . . . . . . . . . . . . . . . . . . . 52\n",
      "8 Kỹ thuật prompt . . . . . . . . . . . . . . . . . . . . . . . . . . . . . . . . . . . . . . . . . 55\n",
      "8.1 Prompts cho Metadata Extractors . . . . . . . . . . . . . . . . . . . . . . . . . . . . . . 55\n",
      "8.2 Prompts cho cuộc trò chuyện . . . . . . . . . . . . . . . . . . . . . . . . . . . . . . . . . 56\n",
      "9 Evaluation . . . . . . . . . . . . . . . . . . . . . . . . . . . . . . . . . . . . . . . . . . . . . . 57\n",
      "9.1 Thực hành 4: Đánh giá hệ thống Mental Health . . . . . . . . . . . . . . . . . . . . . . . 60\n",
      "10 Kết luận. . . . . . . . . . . . . . . . . . . . . . . . . . . . . . . . . . . . . . . . . . . . . . . 62\n",
      "1\n"
     ]
    }
   ],
   "source": [
    "print(documents[1].page_content)"
   ]
  },
  {
   "cell_type": "code",
   "execution_count": 16,
   "metadata": {},
   "outputs": [],
   "source": [
    "text_splitter = RecursiveCharacterTextSplitter(\n",
    "    separators=[\"\\n\\n\", \"\\n\", \" \", \"\"],\n",
    "    chunk_size=512,\n",
    "    chunk_overlap=64,\n",
    "    length_function=len\n",
    ")"
   ]
  },
  {
   "cell_type": "code",
   "execution_count": 24,
   "metadata": {},
   "outputs": [],
   "source": [
    "chunks = text_splitter.split_documents(documents)"
   ]
  },
  {
   "cell_type": "code",
   "execution_count": 31,
   "metadata": {},
   "outputs": [],
   "source": [
    "chunks_text = [chunk.page_content for chunk in chunks]"
   ]
  },
  {
   "cell_type": "code",
   "execution_count": 32,
   "metadata": {},
   "outputs": [],
   "source": [
    "db_pdf = FAISS.from_texts(chunks_text, embeddings)\n",
    "FAISS.save_local(db_pdf, vector_db_path)\n"
   ]
  },
  {
   "cell_type": "code",
   "execution_count": 33,
   "metadata": {},
   "outputs": [],
   "source": [
    "db_pdf = FAISS.load_local(vector_db_path, embeddings, allow_dangerous_deserialization=True)"
   ]
  },
  {
   "cell_type": "code",
   "execution_count": 61,
   "metadata": {},
   "outputs": [
    {
     "name": "stdout",
     "output_type": "stream",
     "text": [
      "AIO 2024 aivietnam.edu.vn\n",
      "7.4 Agent\n",
      "Nếu chúng ta hỏi chatbot \"Mấy giờ rồi nhỉ?\", hay ta muốn chatbot viết một bức thư rồi gửi nó qua địa\n",
      "chỉ email của khách hàng, hoặc ta có một cơ sở dữ liệu muốn chatbot có thể kết nối và truy xuất thông\n",
      "tin dựa trên yêu cầu, sau đó viết thành file báo cáo rồi gửi cho ta, giống như một nhân viên thật sự?...\n",
      "nói chung là chúng ta muốn chatbot có thể thực hiện nhiều công việc hơn thì làm như thế nào?\n",
      "1.4298093\n",
      "----------------------------------------------------------------------------------------------------------------------------------------------------------------------------------------------------------------------------------------------------------------------------------------------------------------------------------------------------------------------------------------------------------------------------------------------------------------------------------------------------------------------------------------------------------------------------------------------------------------------------------------------------------------------------------------------------------------------------------------------------------------------------------------------------------------------------------------------------------------------------------------------------------------------------------------------------------------------------------------------------------------------------------------\n",
      "==========================================\n",
      "Vậy là bây giờ Agent đã có trả lời thời gian chính xác, điều đơn giản mà LLM không làm được.\n",
      "48\n",
      "-1.0165607\n",
      "----------------------------------------------------------------------------------------------------------------------------------------------------------------------------------------------------------------------------------------------------------------------------------------------------------------------------------------------------------------------------------------------------------------------------------------------------------------------------------------------------------------------------------------------------------------------------------------------------------------------------------------------------------------------------------------------------------------------------------------------------------------------------------------------------------------------------------------------------------------------------------------------------------------------------------------------------------------------------------------------------------------------------------------\n",
      "AIO 2024 aivietnam.edu.vn\n",
      "Trong ví dụ dưới đây, chúng ta tạo Agent với thiết lập là một người bạn thân của mình. Cậu ấy có thể\n",
      "thực hiện phép nhân hai số rất chính xác và có thể trả lời thông tin về mèo Ú.\n",
      "1 from typing import Optional\n",
      "2 from llama_index.agent.openai import OpenAIAgent\n",
      "3 from llama_index.core.tools import FunctionTool\n",
      "4 from llama_index.core import Document, VectorStoreIndex\n",
      "5 from llama_index.core.tools import QueryEngineTool\n",
      "6\n",
      "7 def multiply(a: int, b: int) -> int:\n",
      "-2.8910449\n",
      "----------------------------------------------------------------------------------------------------------------------------------------------------------------------------------------------------------------------------------------------------------------------------------------------------------------------------------------------------------------------------------------------------------------------------------------------------------------------------------------------------------------------------------------------------------------------------------------------------------------------------------------------------------------------------------------------------------------------------------------------------------------------------------------------------------------------------------------------------------------------------------------------------------------------------------------------------------------------------------------------------------------------------------------\n",
      "28 tools=[dsm5_tool, save_tool],\n",
      "29 memory=memory,\n",
      "30 system_prompt=CUSTORM_AGENT_SYSTEM_TEMPLATE.format(user_info=user_info)\n",
      "31 )\n",
      "32 display_messages(chat_store, container, key=username)\n",
      "33 return agent\n",
      "Trong Agent trên, prompt chúng ta sử dụng như sau:\n",
      "1 CUSTORM_AGENT_SYSTEM_TEMPLATE = \"\"\"\\\n",
      "2 Bạn là một chuyên gia tâm lý AI được phát triển bởi AI VIETNAM, bạn đang chăm sóc,\n",
      "theo dõi và tư vấn cho người dùng về sức khỏe tâm thần theo từng ngày.\n",
      "-3.0871155\n",
      "----------------------------------------------------------------------------------------------------------------------------------------------------------------------------------------------------------------------------------------------------------------------------------------------------------------------------------------------------------------------------------------------------------------------------------------------------------------------------------------------------------------------------------------------------------------------------------------------------------------------------------------------------------------------------------------------------------------------------------------------------------------------------------------------------------------------------------------------------------------------------------------------------------------------------------------------------------------------------------------------------------------------------------------\n",
      "trò chuyện trở nên liền mạch và giúp theo dõi, đánh giá sức khỏe tinh thần của người dùng tốt hơn.\n",
      "Chúng ta sẽ sử dụng prompt để thiết lập ngữ cảnh cho Agent, ngoài ra ta sẽ tạo hai công cụ để agent\n",
      "sử dụng đó là DSM5 tool - công cụ giúp truy xuất thông tin từ kho vector, và công cụ lưu trữ kết quả\n",
      "chẩn đoán. Về cơ bản thì Agent sẽ cần phải thực hiện các công việc sau:\n",
      "• Đóng vai là chuyên gia tâm lí, nói chuyện với người dùng một cách tự nhiên\n",
      "-4.224736\n",
      "----------------------------------------------------------------------------------------------------------------------------------------------------------------------------------------------------------------------------------------------------------------------------------------------------------------------------------------------------------------------------------------------------------------------------------------------------------------------------------------------------------------------------------------------------------------------------------------------------------------------------------------------------------------------------------------------------------------------------------------------------------------------------------------------------------------------------------------------------------------------------------------------------------------------------------------------------------------------------------------------------------------------------------------\n",
      "hoặc thay đổi thông tin. Khi ta giao một nhiệm vụ cho agent, nó sẽ sử dụng vòng lặp suy luận để\n",
      "quyết định sử dụng công cụ nào, theo thứ tự nào, và cách sử dụng từng công cụ.\n",
      "a) Tools\n",
      "Công cụ (Tools) là phần quan trọng trong việc xây dựng agent. Chúng giống như các API nhưng dành\n",
      "cho agent sử dụng thay vì con người. Ví dụ một tool có thể chứa query engine để truy xuất dữ liệu,\n",
      "hoặc chứa các hàm python để thực hiện các chức năng cụ thể, ví dụ như một hàm đọc, ghi file.\n",
      "-4.643943\n",
      "----------------------------------------------------------------------------------------------------------------------------------------------------------------------------------------------------------------------------------------------------------------------------------------------------------------------------------------------------------------------------------------------------------------------------------------------------------------------------------------------------------------------------------------------------------------------------------------------------------------------------------------------------------------------------------------------------------------------------------------------------------------------------------------------------------------------------------------------------------------------------------------------------------------------------------------------------------------------------------------------------------------------------------------\n",
      "AIO 2024 aivietnam.edu.vn\n",
      "Tiếp theo, chúng ta sẽ tìm hiểu query engine tool. Trong Agent chúng ta có thể sử dụng nhiều công cụ\n",
      "truy xuất dữ liệu khác nhau. Chính vì vậy mà chúng ta sẽ goí các công cụ truy xuất này lại thành công\n",
      "cụ cho Agent sử dụng.\n",
      "1 from llama_index.core.tools import QueryEngineTool\n",
      "2 from llama_index.core import Document, VectorStoreIndex\n",
      "3 from llama_index.agent.openai import OpenAIAgent\n",
      "4\n",
      "5\n",
      "6 text = \"Đêm qua đi chơi về muộn, mèo Ú bị sập bẫy!\"\n",
      "7 doc = Document(text=text)\n",
      "-4.6586647\n",
      "----------------------------------------------------------------------------------------------------------------------------------------------------------------------------------------------------------------------------------------------------------------------------------------------------------------------------------------------------------------------------------------------------------------------------------------------------------------------------------------------------------------------------------------------------------------------------------------------------------------------------------------------------------------------------------------------------------------------------------------------------------------------------------------------------------------------------------------------------------------------------------------------------------------------------------------------------------------------------------------------------------------------------------------\n",
      "chatbot. Với Agent trong LlamaIndex, chatbot không chỉ có khả năng trò chuyện mà còn có thể tự động\n",
      "tìm kiếm thông tin, kết nối với các dịch vụ bên ngoài, và thậm chí cập nhật hoặc thay đổi dữ liệu một\n",
      "cách thông minh.\n",
      "Agents như những người trợ lý ảo có thể thực hiện cả chức năng \"đọc\"và \"ghi,\"nghĩa là chúng có thể\n",
      "tìm kiếm và truy xuất thông tin từ nhiều loại dữ liệu khác nhau, cũng như thay đổi hoặc cập nhật dữ\n",
      "-7.437055\n",
      "----------------------------------------------------------------------------------------------------------------------------------------------------------------------------------------------------------------------------------------------------------------------------------------------------------------------------------------------------------------------------------------------------------------------------------------------------------------------------------------------------------------------------------------------------------------------------------------------------------------------------------------------------------------------------------------------------------------------------------------------------------------------------------------------------------------------------------------------------------------------------------------------------------------------------------------------------------------------------------------------------------------------------------------\n",
      "sau đó tạo query engine tool. Cuối cùng chúng ta sẽ tạo agent từ các công cụ. Đầu ra cho thấy agent\n",
      "đã sử dụng công cụ khác nhau để trả lời cho mỗi câu hỏi.\n",
      "b) Resoning Loop\n",
      "Vòng lặp lí luận(Resoning Loop) là một thành phần quan trọng của Agent, nó là khả năng tư duy của\n",
      "Agent trong việc sử dụng các công cụ để thực hiện công việc được giao. Trong phần trước, chúng ta đã\n",
      "tạo tool và agent, khi chúng ta trò chuyện, agent có thể chọn công cụ để trả lời câu hỏi của chúng ta\n",
      "một cách tự động.\n",
      "-7.5533085\n",
      "----------------------------------------------------------------------------------------------------------------------------------------------------------------------------------------------------------------------------------------------------------------------------------------------------------------------------------------------------------------------------------------------------------------------------------------------------------------------------------------------------------------------------------------------------------------------------------------------------------------------------------------------------------------------------------------------------------------------------------------------------------------------------------------------------------------------------------------------------------------------------------------------------------------------------------------------------------------------------------------------------------------------------------------\n",
      "5.2 Lưu trữ Index . . . . . . . . . . . . . . . . . . . . . . . . . . . . . . . . . . . . . . . . . . 35\n",
      "5.3 Thực hành 2: Xây dựng Indexing - Mental Heath . . . . . . . . . . . . . . . . . . . . . 36\n",
      "6 Kỹ thuật truy xuất dữ liệu. . . . . . . . . . . . . . . . . . . . . . . . . . . . . . . . . . . 38\n",
      "7 Kỹ thuật xây dựng Chatbot, Agent. . . . . . . . . . . . . . . . . . . . . . . . . . . . . . 41\n",
      "7.1 Chat engine . . . . . . . . . . . . . . . . . . . . . . . . . . . . . . . . . . . . . . . . . . . 41\n",
      "-9.163984\n",
      "----------------------------------------------------------------------------------------------------------------------------------------------------------------------------------------------------------------------------------------------------------------------------------------------------------------------------------------------------------------------------------------------------------------------------------------------------------------------------------------------------------------------------------------------------------------------------------------------------------------------------------------------------------------------------------------------------------------------------------------------------------------------------------------------------------------------------------------------------------------------------------------------------------------------------------------------------------------------------------------------------------------------------------------\n",
      "----------------------------------------------------------------------------------------------------------------------------------------------------------------------------------------------------------------------------------------------------------------------------------------------------------------------------------------------------------------------------------------------------------------------------------------------------------------------------------------------------------------------------------------------------------------------------------------------------------------------------------------------------------------------------------------------------------------------------------------------------------------------------------------------------------------------------------------------------------------------------------------------------------------------------------------------------------------------------------------------------------------------------------------\n"
     ]
    }
   ],
   "source": [
    "query = \"AI agent la gi?\"\n",
    "retrieved_docs2, score = retrieve_and_re_rank_advanced(db_pdf, query)\n",
    "for doc, s in zip(retrieved_docs2, score):\n",
    "    print(doc)\n",
    "    print(s)\n",
    "    print('----------' * 100)\n",
    "print('----------' * 100)\n"
   ]
  },
  {
   "cell_type": "code",
   "execution_count": 62,
   "metadata": {},
   "outputs": [
    {
     "name": "stdout",
     "output_type": "stream",
     "text": [
      "Question:  Một câu hỏi hay!\n",
      "\n",
      "Theo như context bạn cung cấp, có vẻ như bạn đang tìm hiểu về công nghệ AI và ứng dụng của nó trong việc tạo ra các chatbot thông minh.\n",
      "\n",
      "Một Agent (đại lý) trong lĩnh vực AI là một chương trình máy tính có thể thực hiện các công việc tự động dựa trên yêu cầu của người dùng. Agent có thể hiểu và thực hiện các nhiệm vụ phức tạp, như trả lời câu hỏi, thực hiện các hành động, hoặc thậm chí là tương tác với các hệ thống khác.\n",
      "\n",
      "Trong trường hợp của chatbot, một Agent có thể được thiết kế để thực hiện các công việc như:\n",
      "\n",
      "* Trả lời câu hỏi của người dùng\n",
      "* Tìm kiếm và cung cấp thông tin\n",
      "* Thực hiện các hành động như gửi email hoặc tạo file báo cáo\n",
      "* Tương tác với các hệ thống khác để thu thập hoặc cập nhật thông tin\n",
      "\n",
      "Để tạo ra một Agent như vậy, chúng ta cần sử dụng các công nghệ như:\n",
      "\n",
      "* Natural Language Processing (NLP) để hiểu và xử lý ngôn ngữ tự nhiên\n",
      "* Machine Learning (ML) để huấn luyện Agent học hỏi và cải thiện\n",
      "* Integration với các hệ thống khác để thực hiện các hành động và tương tác\n",
      "\n",
      "Tóm lại, một Agent trong lĩnh vực AI là một chương trình máy tính thông minh có thể thực hiện các công việc tự động và phức tạp dựa trên yêu cầu của người dùng.\n"
     ]
    }
   ],
   "source": [
    "chat_completion = client.chat.completions.create(\n",
    "    messages=[\n",
    "        {\"role\": \"system\", \"content\": \"You are a helpful assistant that utilizes retrieved information.\"},\n",
    "        {\"role\": \"user\", \"content\": f\"Context:\\n{retrieved_docs2[0]}\\n\\nQuestion: {query}\"},\n",
    "    ],\n",
    "    model=\"llama-3.3-70b-versatile\",\n",
    ")\n",
    "\n",
    "print(\"Question: \",chat_completion.choices[0].message.content)"
   ]
  }
 ],
 "metadata": {
  "kernelspec": {
   "display_name": "rag",
   "language": "python",
   "name": "python3"
  },
  "language_info": {
   "codemirror_mode": {
    "name": "ipython",
    "version": 3
   },
   "file_extension": ".py",
   "mimetype": "text/x-python",
   "name": "python",
   "nbconvert_exporter": "python",
   "pygments_lexer": "ipython3",
   "version": "3.10.16"
  }
 },
 "nbformat": 4,
 "nbformat_minor": 2
}
