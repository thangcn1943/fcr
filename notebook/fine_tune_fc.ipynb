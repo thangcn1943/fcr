{
 "cells": [
  {
   "cell_type": "code",
   "execution_count": null,
   "metadata": {},
   "outputs": [],
   "source": [
    "import os\n",
    "import wandb\n",
    "from dotenv import load_dotenv\n",
    "load_dotenv()\n",
    "\n",
    "def setup_wandb(project_name: str, run_name: str):\n",
    "    # Set up your API KEY\n",
    "    try:\n",
    "        api_key = os.getenv(\"WANDB_API_KEY\")\n",
    "        wandb.login(key=api_key)\n",
    "        print(\"Successfully logged into WandB.\")\n",
    "    except KeyError:\n",
    "        raise EnvironmentError(\"WANDB_API_KEY is not set in the environment variables.\")\n",
    "    except Exception as e:\n",
    "        print(f\"Error logging into WandB: {e}\")\n",
    "    \n",
    "    # Optional: Log models\n",
    "    os.environ[\"WANDB_LOG_MODEL\"] = \"checkpoint\"\n",
    "    os.environ[\"WANDB_WATCH\"] = \"all\"\n",
    "    os.environ[\"WANDB_SILENT\"] = \"true\"\n",
    "    \n",
    "    # Initialize the WandB run\n",
    "    try:\n",
    "        wandb.init(project=project_name, name=run_name)\n",
    "        print(f\"WandB run initialized: Project - {project_name}, Run - {run_name}\")\n",
    "    except Exception as e:\n",
    "        print(f\"Error initializing WandB run: {e}\")\n",
    "\n",
    "\n",
    "setup_wandb(project_name=\"ft_for_rag\", run_name=\"llama3-fc\")"
   ]
  },
  {
   "cell_type": "code",
   "execution_count": 3,
   "metadata": {},
   "outputs": [
    {
     "name": "stderr",
     "output_type": "stream",
     "text": [
      "/home/thangcn/.local/lib/python3.10/site-packages/tqdm/auto.py:21: TqdmWarning: IProgress not found. Please update jupyter and ipywidgets. See https://ipywidgets.readthedocs.io/en/stable/user_install.html\n",
      "  from .autonotebook import tqdm as notebook_tqdm\n"
     ]
    }
   ],
   "source": [
    "from huggingface_hub import login\n",
    "hf_token = os.getenv('HUGGINGFACE_API_KEY')\n",
    "login(token=hf_token)"
   ]
  }
 ],
 "metadata": {
  "kernelspec": {
   "display_name": "rag",
   "language": "python",
   "name": "python3"
  },
  "language_info": {
   "codemirror_mode": {
    "name": "ipython",
    "version": 3
   },
   "file_extension": ".py",
   "mimetype": "text/x-python",
   "name": "python",
   "nbconvert_exporter": "python",
   "pygments_lexer": "ipython3",
   "version": "3.10.16"
  }
 },
 "nbformat": 4,
 "nbformat_minor": 2
}
