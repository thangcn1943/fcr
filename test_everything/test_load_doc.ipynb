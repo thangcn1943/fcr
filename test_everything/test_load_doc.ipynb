{
 "cells": [
  {
   "cell_type": "code",
   "execution_count": 3,
   "metadata": {},
   "outputs": [],
   "source": [
    "from langchain_community.embeddings import HuggingFaceEmbeddings\n",
    "from langchain_community.vectorstores import FAISS\n",
    "from dotenv import load_dotenv\n",
    "import os\n",
    "from langchain_text_splitters import RecursiveCharacterTextSplitter, CharacterTextSplitter\n",
    "from langchain_community.document_loaders import PyPDFLoader, DirectoryLoader\n",
    "import torch\n",
    "import faiss\n",
    "from langchain_community.docstore.in_memory import InMemoryDocstore\n",
    "\n",
    "load_dotenv()\n",
    "EMBED_MODEL = 'BAAI/bge-small-en-v1.5' # os.getenv(\"EMBED_MODEL\")\n",
    "FAISS_ROOT = '/home/thangcn/Downloads/datn/faiss_db' # os.getenv(\"FAISS_ROOT\")\n",
    "os.makedirs(FAISS_ROOT, exist_ok=True)\n",
    "\n",
    "def download_pdf(id: str):\n",
    "    pass\n",
    "\n",
    "def pdf_to_text(pdf_path: str, chunk_size):\n",
    "    loader = DirectoryLoader(\n",
    "        path = pdf_path,\n",
    "        glob = \"*.pdf\",\n",
    "        loader_cls = PyPDFLoader\n",
    "    )\n",
    "    documents = loader.load()\n",
    "\n",
    "    text_splitter = RecursiveCharacterTextSplitter(\n",
    "        separators=[\"\\n\\n\", \"\\n\", \" \", \"\"],\n",
    "        chunk_size=chunk_size,\n",
    "        chunk_overlap=0,\n",
    "        length_function=len\n",
    "    )\n",
    "\n",
    "    texts = text_splitter.split_documents(documents)\n",
    "\n",
    "    return texts\n",
    "\n",
    "def store_embedding(pdf_path, chunk_size=1000):\n",
    "    texts = pdf_to_text(pdf_path, chunk_size)\n",
    "    embeddings = HuggingFaceEmbeddings(\n",
    "        model_name=EMBED_MODEL,\n",
    "        model_kwargs={'device': 'cpu'}\n",
    "    )\n",
    "\n",
    "    index = faiss.IndexFlatL2(len(embeddings.embed_query('Hello World!')))\n",
    "\n",
    "    vector_store = FAISS(\n",
    "        embedding_function=embeddings,\n",
    "        index=index,\n",
    "        index_to_docstore_id={},\n",
    "        docstore=InMemoryDocstore()\n",
    "    )\n",
    "    vector_store.add_documents(texts)\n",
    "    vector_store.save_local(os.path.join(FAISS_ROOT, pdf_path.split('/')[-1]))\n",
    "    \n",
    "    print(\"Store embedding successfully!\")\n",
    "    torch.cuda.empty_cache()\n",
    "\n",
    "# def main():\n",
    "#     pdf_path = \n"
   ]
  },
  {
   "cell_type": "code",
   "execution_count": 10,
   "metadata": {},
   "outputs": [],
   "source": [
    "root_path = '/home/thangcn/Downloads/datn/pdf'"
   ]
  },
  {
   "cell_type": "code",
   "execution_count": 11,
   "metadata": {},
   "outputs": [
    {
     "name": "stdout",
     "output_type": "stream",
     "text": [
      "['pdf_medical', 'pdf_aio', 'pdf_billionares', 'pdf_economic']\n"
     ]
    }
   ],
   "source": [
    "folders = os.listdir('/home/thangcn/Downloads/datn/pdf')\n",
    "pdf_folder = [f for f in folders if 'pdf' in f]\n",
    "print(pdf_folder)"
   ]
  },
  {
   "cell_type": "code",
   "execution_count": 12,
   "metadata": {},
   "outputs": [
    {
     "name": "stdout",
     "output_type": "stream",
     "text": [
      "['/home/thangcn/Downloads/datn/pdf/pdf_medical', '/home/thangcn/Downloads/datn/pdf/pdf_aio', '/home/thangcn/Downloads/datn/pdf/pdf_billionares', '/home/thangcn/Downloads/datn/pdf/pdf_economic']\n"
     ]
    }
   ],
   "source": [
    "pdf_direc = [os.path.join(root_path,pf) for pf in pdf_folder ]\n",
    "print(pdf_direc)"
   ]
  },
  {
   "cell_type": "code",
   "execution_count": 13,
   "metadata": {},
   "outputs": [],
   "source": [
    "pdf_path = '/home/thangcn/Downloads/datn/pdf/pdf_medical'"
   ]
  },
  {
   "cell_type": "code",
   "execution_count": 14,
   "metadata": {},
   "outputs": [
    {
     "name": "stderr",
     "output_type": "stream",
     "text": [
      "/tmp/ipykernel_20217/1046582029.py:40: LangChainDeprecationWarning: The class `HuggingFaceEmbeddings` was deprecated in LangChain 0.2.2 and will be removed in 1.0. An updated version of the class exists in the :class:`~langchain-huggingface package and should be used instead. To use it run `pip install -U :class:`~langchain-huggingface` and import as `from :class:`~langchain_huggingface import HuggingFaceEmbeddings``.\n",
      "  embeddings = HuggingFaceEmbeddings(\n",
      "/home/thangcn/.local/lib/python3.10/site-packages/tqdm/auto.py:21: TqdmWarning: IProgress not found. Please update jupyter and ipywidgets. See https://ipywidgets.readthedocs.io/en/stable/user_install.html\n",
      "  from .autonotebook import tqdm as notebook_tqdm\n"
     ]
    },
    {
     "name": "stdout",
     "output_type": "stream",
     "text": [
      "Store embedding successfully!\n"
     ]
    }
   ],
   "source": [
    "store_embedding(pdf_path, chunk_size=1000)"
   ]
  }
 ],
 "metadata": {
  "kernelspec": {
   "display_name": "rag",
   "language": "python",
   "name": "python3"
  },
  "language_info": {
   "codemirror_mode": {
    "name": "ipython",
    "version": 3
   },
   "file_extension": ".py",
   "mimetype": "text/x-python",
   "name": "python",
   "nbconvert_exporter": "python",
   "pygments_lexer": "ipython3",
   "version": "3.10.16"
  }
 },
 "nbformat": 4,
 "nbformat_minor": 2
}
